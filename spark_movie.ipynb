{
 "cells": [
  {
   "cell_type": "code",
   "execution_count": 64,
   "id": "b385dbd5",
   "metadata": {},
   "outputs": [],
   "source": [
    "from pyspark.sql import SparkSession\n",
    "from pyspark.sql.functions import col\n",
    "from pyspark.sql import functions as F\n",
    "from pyspark.sql.window import Window"
   ]
  },
  {
   "cell_type": "code",
   "execution_count": null,
   "id": "1375b974",
   "metadata": {},
   "outputs": [],
   "source": [
    "spark = SparkSession.builder \\\n",
    "    .appName(\"MovieDataFrame\") \\\n",
    "    .config(\"spark.driver.memory\", \"4g\") \\\n",
    "    .getOrCreate()"
   ]
  },
  {
   "cell_type": "code",
   "execution_count": 66,
   "id": "8d8afac2",
   "metadata": {},
   "outputs": [],
   "source": [
    "df = spark \\\n",
    "    .read \\\n",
    "    .option('header', 'true') \\\n",
    "    .csv('movie/ratings.csv', inferSchema=True)\n",
    "\n",
    "df = df.select(['userId', 'movieId', 'rating'])"
   ]
  },
  {
   "cell_type": "code",
   "execution_count": 67,
   "id": "029ba103",
   "metadata": {},
   "outputs": [],
   "source": [
    "df = df.limit(124289)"
   ]
  },
  {
   "cell_type": "code",
   "execution_count": 68,
   "id": "fb50dc70",
   "metadata": {},
   "outputs": [],
   "source": [
    "normalize = True\n",
    "if normalize:\n",
    "        avg = df.groupby('movieId').mean('rating').alias('avg_rating')\n",
    "        df = df.join(avg, on='movieId') \\\n",
    "                .withColumn('rating', col('rating') - col('avg(rating)')) \\\n",
    "                .select('userId', 'movieId', 'rating')"
   ]
  },
  {
   "cell_type": "code",
   "execution_count": 69,
   "id": "21a7a9ba",
   "metadata": {},
   "outputs": [],
   "source": [
    "MIN_RATINGS = 10\n",
    "movie_counts = df.groupBy(\"movieId\").agg(F.count(\"rating\").alias(\"count\"))\n",
    "df_filtered = df.join(\n",
    "    F.broadcast(movie_counts), \"movieId\"\n",
    ").filter(F.col(\"count\") >= MIN_RATINGS)"
   ]
  },
  {
   "cell_type": "code",
   "execution_count": 70,
   "id": "47b437bc",
   "metadata": {},
   "outputs": [],
   "source": [
    "df_filtered = df_filtered.select(\"userId\", \"movieId\", \"rating\")"
   ]
  },
  {
   "cell_type": "code",
   "execution_count": 71,
   "id": "e0897ff1",
   "metadata": {},
   "outputs": [],
   "source": [
    "movie_norms = df_filtered.groupBy(\"movieId\").agg(\n",
    "    F.sum(F.col(\"rating\") * F.col(\"rating\")).alias(\"sq_sum\")\n",
    ").withColumn(\"norm\", F.sqrt(F.col(\"sq_sum\")))"
   ]
  },
  {
   "cell_type": "code",
   "execution_count": 72,
   "id": "08216759",
   "metadata": {},
   "outputs": [],
   "source": [
    "pairs = df_filtered.alias(\"a\").join(\n",
    "    df_filtered.alias(\"b\"),\n",
    "    (F.col(\"a.userId\") == F.col(\"b.userId\")) & \n",
    "    (F.col(\"a.movieId\") < F.col(\"b.movieId\"))\n",
    ").select(\n",
    "    F.col(\"a.movieId\").alias(\"movie1\"),\n",
    "    F.col(\"b.movieId\").alias(\"movie2\"),\n",
    "    (F.col(\"a.rating\") * F.col(\"b.rating\")).alias(\"product\")\n",
    ")"
   ]
  },
  {
   "cell_type": "code",
   "execution_count": 73,
   "id": "8427afdf",
   "metadata": {},
   "outputs": [],
   "source": [
    "dot_products = pairs.groupBy(\"movie1\", \"movie2\").agg(\n",
    "    F.sum(\"product\").alias(\"dot_product\"),\n",
    "    F.count(\"product\").alias(\"common_users\")\n",
    ").filter(F.col(\"common_users\") >= 5)"
   ]
  },
  {
   "cell_type": "code",
   "execution_count": 74,
   "id": "1fc0f51e",
   "metadata": {},
   "outputs": [],
   "source": [
    "similarities = dot_products.join(\n",
    "    movie_norms.alias(\"n1\"),\n",
    "    F.col(\"movie1\") == F.col(\"n1.movieId\")\n",
    ").join(\n",
    "    movie_norms.alias(\"n2\"),\n",
    "    F.col(\"movie2\") == F.col(\"n2.movieId\")\n",
    ").select(\n",
    "    \"movie1\",\n",
    "    \"movie2\",\n",
    "    (F.col(\"dot_product\") / (F.col(\"n1.norm\") * F.col(\"n2.norm\"))).alias(\"similarity\"),\n",
    "    \"common_users\"\n",
    ")"
   ]
  },
  {
   "cell_type": "code",
   "execution_count": 75,
   "id": "9f78640b",
   "metadata": {},
   "outputs": [],
   "source": [
    "k = 20\n",
    "window_spec = Window \\\n",
    "    .partitionBy(\"userId\", \"movieId\") \\\n",
    "    .orderBy(F.desc(\"similarity\"))"
   ]
  },
  {
   "cell_type": "code",
   "execution_count": 76,
   "id": "5648a13d",
   "metadata": {},
   "outputs": [],
   "source": [
    "user_rated_movies = df.select(\n",
    "    F.col(\"userId\").alias(\"check_userId\"),\n",
    "    F.col(\"movieId\").alias(\"check_movieId\"),\n",
    "    F.col(\"rating\").alias(\"check_rating\")\n",
    ").distinct()\n",
    "\n",
    "predictions = (\n",
    "    df.alias(\"rated\")\n",
    "    .join(\n",
    "        similarities.alias(\"sim\"),\n",
    "        F.col(\"rated.movieId\") == F.col(\"sim.movie1\")\n",
    "    )\n",
    "    .join(\n",
    "        user_rated_movies.alias(\"check\"),\n",
    "        (F.col(\"rated.userId\") == F.col(\"check.check_userId\")) &\n",
    "        (F.col(\"sim.movie2\") == F.col(\"check.check_movieId\"))\n",
    "    )\n",
    "    .select(\n",
    "        F.col(\"rated.userId\").alias(\"userId\"),\n",
    "        F.col(\"rated.movieId\").alias(\"movieId\"),\n",
    "        F.col(\"rated.rating\").alias(\"rating1\"),\n",
    "        F.col(\"sim.movie2\").alias(\"movie2\"),\n",
    "        F.col(\"sim.similarity\").alias(\"similarity\"),\n",
    "        F.col(\"check.check_rating\").alias(\"rating2\")\n",
    "    )\n",
    "    .withColumn(\"rank\",F.row_number().over(window_spec))\n",
    "    .filter(F.col(\"rank\") <= 20)\n",
    "    .drop(\"rank\")\n",
    ")"
   ]
  },
  {
   "cell_type": "code",
   "execution_count": 77,
   "id": "692876fc",
   "metadata": {},
   "outputs": [],
   "source": [
    "predictions = predictions.groupBy(\"userId\", \"movieId\").agg(\n",
    "    F.first(\"rating1\").alias(\"actual_rating\"),\n",
    "    F.sum(F.col(\"similarity\") * F.col(\"rating2\")).alias(\"numerator\"),\n",
    "    F.sum(\"similarity\").alias(\"denominator\")\n",
    ")"
   ]
  },
  {
   "cell_type": "code",
   "execution_count": 78,
   "id": "0be53377",
   "metadata": {},
   "outputs": [],
   "source": [
    "predictions = predictions.withColumn(\n",
    "    \"predicted_rating\",\n",
    "    F.when(F.col(\"denominator\") != 0, \n",
    "          F.col(\"numerator\") / F.col(\"denominator\"))\n",
    "    .otherwise(None)\n",
    ").select(\n",
    "    \"userId\",\n",
    "    \"movieId\",\n",
    "    \"actual_rating\",\n",
    "    \"predicted_rating\",\n",
    "    \"numerator\",\n",
    "    \"denominator\"\n",
    ")"
   ]
  },
  {
   "cell_type": "code",
   "execution_count": null,
   "id": "bca85418",
   "metadata": {},
   "outputs": [
    {
     "name": "stdout",
     "output_type": "stream",
     "text": [
      "+------+-------+--------------------+--------------------+--------------------+--------------------+\n",
      "|userId|movieId|       actual_rating|    predicted_rating|           numerator|         denominator|\n",
      "+------+-------+--------------------+--------------------+--------------------+--------------------+\n",
      "|     1|    110| -2.9682539682539684| 0.06525509445368251|0.055278673486096115|  0.8471165960127823|\n",
      "|     1|    147|   1.074074074074074|  0.6963676266263935| 0.09589854742944068|  0.1377125296505074|\n",
      "|     1|    858|  0.5391459074733094|  0.6620630863667751|  0.9359363469756963|  1.4136664107220722|\n",
      "|     1|   1221|  0.7722513089005236|   0.561825507154906|  0.5586766366468569|  0.9943952873838088|\n",
      "|     1|   1246|  1.1691729323308269|  0.6696351763210588|  0.9220014855626385|  1.3768713445253387|\n",
      "|     1|   1968| 0.17279411764705888|  0.5769007613879342|   0.645035871978795|  1.1181054267062123|\n",
      "|     1|   2762|                 0.5|  0.7948736709821944|  0.6818162154655183|  0.8577667626391808|\n",
      "|     1|   2918|  1.0536912751677852|  1.2931921126135195|   0.843094198572941|  0.6519481447107358|\n",
      "|     1|   2959|-0.17627118644067785|  0.5566298975674294|  0.4940939894578002|  0.8876526245124056|\n",
      "|     1|   4226|-0.05399061032863...|  0.7697979634158676|  0.5080890102754756|  0.6600290393350793|\n",
      "|     1|   4878|  1.1771653543307088|  0.5897179926926192|  0.6268603278455959|  1.0629832150506158|\n",
      "|     1|   5577|  1.7999999999999998|                NULL|-0.00260319621367...|-0.01351835226748...|\n",
      "|     1|  33794| 0.19256756756756754|  0.6981437575849939|  0.8992115966338725|  1.2880034904908535|\n",
      "|     1|  54503| -0.3396226415094339|  -1.374791528779852|-0.14630558524549758| 0.10642019694094709|\n",
      "|     1|  58559|-0.10904255319148959|  1.0286010724157018|  0.7646926865799385|  0.7434297971166157|\n",
      "|     1|  59315|  1.0206611570247932|   0.840747305366887|  0.9631710836116104|  1.1456130486095342|\n",
      "|     1|  68358|  0.8164556962025316|  0.8600458599887043|  0.9644329522193789|   1.121373867472655|\n",
      "|     1|  69844|  1.0909090909090908|-0.17095947755574806|-0.28634728181846103|  1.6749424244414075|\n",
      "|     1|  73017|   1.221311475409836|  1.6326599501520094|   1.089855602547561|   0.667533739923056|\n",
      "|     1|  81834|  1.0147058823529411| -0.7533280442740717| -0.5440225700076735|  0.7221589241801147|\n",
      "+------+-------+--------------------+--------------------+--------------------+--------------------+\n",
      "only showing top 20 rows\n",
      "\n"
     ]
    }
   ],
   "source": [
    "predictions.show() # with normalization"
   ]
  },
  {
   "cell_type": "code",
   "execution_count": null,
   "id": "5822a422",
   "metadata": {},
   "outputs": [
    {
     "name": "stdout",
     "output_type": "stream",
     "text": [
      "+------+-------+-------------+------------------+------------------+-------------------+\n",
      "|userId|movieId|actual_rating|  predicted_rating|         numerator|        denominator|\n",
      "+------+-------+-------------+------------------+------------------+-------------------+\n",
      "|     1|    110|          1.0| 4.419925124802842|26.964949593217078|  6.100770676385586|\n",
      "|     1|    147|          4.5| 4.663748348382494|3.5654541950625065| 0.7645039845040301|\n",
      "|     1|    858|          5.0| 4.413742066493125| 29.54962338025821|  6.694913960782588|\n",
      "|     1|   1221|          5.0| 4.287753968038814|23.049364672009936|  5.375626690295512|\n",
      "|     1|   1246|          5.0|4.2883038330971806|22.225976007628546|  5.182929398819224|\n",
      "|     1|   1968|          4.0| 4.360929025959088|19.916061866425174|  4.566930979126652|\n",
      "|     1|   2762|          4.5| 4.293049071076338| 24.46407064645143|  5.698530401451452|\n",
      "|     1|   2918|          5.0| 4.278330366188078| 17.59239899193086|  4.111977684323944|\n",
      "|     1|   2959|          4.0|4.2349671036074925|25.864705652437117|  6.107415953810989|\n",
      "|     1|   4226|          4.0|  4.31026664720891|19.607931989603976|   4.54912273288266|\n",
      "|     1|   4878|          5.0| 4.146108441401003| 16.10074416241364|  3.883338892354941|\n",
      "|     1|   5577|          5.0|               4.0|0.4060667367237463|0.10151668418093658|\n",
      "|     1|  33794|          4.0| 4.199410120903664|21.938085264603934|  5.224087343934656|\n",
      "|     1|  54503|          3.5| 4.314404216011929| 16.99827951879471|   3.93989034585806|\n",
      "|     1|  58559|          4.0| 4.280974986746068|20.685973858992554|  4.832070713572607|\n",
      "|     1|  59315|          5.0|4.2358435603626585|19.331350595308194|  4.563754614595141|\n",
      "|     1|  68358|          5.0|  4.09106529442775| 14.61744275281565|  3.573016244137044|\n",
      "|     1|  69844|          5.0| 3.817919196187029|14.110295885397104| 3.6958078891478667|\n",
      "|     1|  73017|          5.0|3.8155989240337815|10.975572887834533| 2.8765006769189876|\n",
      "|     1|  81834|          5.0|3.1529828680024634| 7.110347848519647| 2.2551178189637064|\n",
      "+------+-------+-------------+------------------+------------------+-------------------+\n",
      "only showing top 20 rows\n",
      "\n"
     ]
    }
   ],
   "source": [
    "predictions.show() # without normalization"
   ]
  },
  {
   "cell_type": "code",
   "execution_count": 60,
   "id": "dd08b793",
   "metadata": {},
   "outputs": [],
   "source": [
    "valid_predictions = predictions.filter(F.col(\"predicted_rating\").isNotNull())"
   ]
  },
  {
   "cell_type": "code",
   "execution_count": 61,
   "id": "cf92f9f1",
   "metadata": {},
   "outputs": [],
   "source": [
    "metrics = valid_predictions.agg(\n",
    "    F.count(\"*\").alias(\"count\"),\n",
    "    F.avg(F.abs(F.col(\"actual_rating\") - F.col(\"predicted_rating\"))).alias(\"mae\"),\n",
    "    F.sqrt(F.avg(F.pow(F.col(\"actual_rating\") - F.col(\"predicted_rating\"), 2))).alias(\"rmse\")\n",
    ")"
   ]
  },
  {
   "cell_type": "code",
   "execution_count": null,
   "id": "70330dfd",
   "metadata": {},
   "outputs": [
    {
     "name": "stdout",
     "output_type": "stream",
     "text": [
      "+------+------------------+-----------------+\n",
      "| count|               mae|             rmse|\n",
      "+------+------------------+-----------------+\n",
      "|101707|0.7203858483575515|19.53000856692622|\n",
      "+------+------------------+-----------------+\n",
      "\n"
     ]
    }
   ],
   "source": [
    "metrics.show() # with normalization"
   ]
  },
  {
   "cell_type": "code",
   "execution_count": null,
   "id": "747e24ad",
   "metadata": {},
   "outputs": [
    {
     "name": "stdout",
     "output_type": "stream",
     "text": [
      "+------+------------------+------------------+\n",
      "| count|               mae|              rmse|\n",
      "+------+------------------+------------------+\n",
      "|103837|0.6746410067500092|0.8909160830954588|\n",
      "+------+------------------+------------------+\n",
      "\n"
     ]
    }
   ],
   "source": [
    "metrics.show() # without normalization"
   ]
  }
 ],
 "metadata": {
  "kernelspec": {
   "display_name": "pyspark",
   "language": "python",
   "name": "python3"
  },
  "language_info": {
   "codemirror_mode": {
    "name": "ipython",
    "version": 3
   },
   "file_extension": ".py",
   "mimetype": "text/x-python",
   "name": "python",
   "nbconvert_exporter": "python",
   "pygments_lexer": "ipython3",
   "version": "3.9.21"
  }
 },
 "nbformat": 4,
 "nbformat_minor": 5
}
